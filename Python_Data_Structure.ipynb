{
  "nbformat": 4,
  "nbformat_minor": 0,
  "metadata": {
    "colab": {
      "provenance": []
    },
    "kernelspec": {
      "name": "python3",
      "display_name": "Python 3"
    },
    "language_info": {
      "name": "python"
    }
  },
  "cells": [
    {
      "cell_type": "markdown",
      "source": [
        "# Data Types and Structures"
      ],
      "metadata": {
        "id": "BvoV2cdUxh2B"
      }
    },
    {
      "cell_type": "markdown",
      "source": [
        "# Theory:"
      ],
      "metadata": {
        "id": "urkzQFvLyT5t"
      }
    },
    {
      "cell_type": "markdown",
      "source": [
        "1. What are data structures, and why are they important?\n",
        " - Data structures are specialized formats which is used to organize, manage, and store data efficiently in a computer. They provide a way of arranging data so that it can be used effectively for various operations, like searching, insertion, deletion, and sorting. Each data structure has a unique way of organizing data, and the choice of structure often affects the performance of algorithms that operate on that data.\n",
        "\n",
        " Data structures are crucial for several reasons:\n",
        "\n",
        " a. Efficiency: The right data structure enhances algorithm performance, speeding up tasks like searching.\n",
        "\n",
        " b. Memory Management: Some structures, like linked lists, grow dynamically, optimizing memory usage compared to fixed-size arrays.\n",
        "\n",
        " c. Problem Solving: Different problems require specific data structures (e.g., trees for databases, graphs for networks).\n",
        "\n",
        " d. Complexity Reduction: Well-organized data simplifies management and retrieval, reducing algorithmic complexity.\n",
        "\n",
        " e. Optimization: Choosing the right structure minimizes time and space complexity, improving application scalability and performance.\n",
        "\n",
        "\n",
        "2. Explain the difference between mutable and immutable data types with examples.\n",
        " - a. Mutable Data Types: Mutable data types are those whose values can be changed or modified after they are created. This means we can alter the content of the object itself.\n",
        " Examples: Lists (in Python): we can change, add, or remove elements in a list after it is created.\n",
        "\n",
        "    b. Immutable Data Types: Immutable data types are those whose values cannot be changed once they are created. Any operation that modifies the object results in the creation of a new object instead.\n",
        "   Examples: Tuples (in Python): Once a tuple is created, we cannot change its elements.\n",
        "\n",
        "3. What are the main differences between lists and tuples in Python?\n",
        " - The main differences between lists and tuples in Python are:\n",
        "\n",
        "  a. Mutability:\n",
        "\n",
        "  Lists: Mutable (can be changed after creation).\n",
        "\n",
        "  Tuples: Immutable (cannot be changed after creation).\n",
        "\n",
        "  b. Syntax:\n",
        "  \n",
        "  Lists: Defined with square brackets [].\n",
        "\n",
        "  Tuples: Defined with parentheses ().\n",
        "\n",
        "  c. Performance:\n",
        "\n",
        "  Lists: Slightly slower due to mutability.\n",
        "\n",
        "  Tuples: Faster due to immutability.\n",
        "\n",
        "  d. Methods:\n",
        "\n",
        "  Lists: Have more methods (e.g., append(), remove()).\n",
        "\n",
        "  Tuples: Have fewer methods (e.g., count(), index()).\n",
        "\n",
        "  e. Use Cases:\n",
        "\n",
        "  Lists: Used when the collection might change.\n",
        "\n",
        "  Tuples: Used when the collection should remain constant.\n",
        "\n",
        "  f. Memory:\n",
        "\n",
        "  Lists: Consume more memory.\n",
        "\n",
        "  Tuples: More memory efficient.\n",
        "\n",
        "  g. Hashability:\n",
        "\n",
        "  Lists: Not hashable (cannot be used as dictionary keys).\n",
        "\n",
        "  Tuples: Hashable (can be used as dictionary keys if all elements are hashable).\n",
        "\n",
        "4. Describe how dictionaries store data.\n",
        " - Python dictionaries store data as key-value pairs using a hash table. When a key is added, Python computes a hash value for the key, which determines where the key-value pair is stored in memory. The key must be immutable (e.g., string, number, tuple), and the value can be of any data type. Hashing allows for fast lookups, insertions, and deletions (average time complexity of O(1)). If two keys have the same hash value (a collision), Python resolves it using techniques like open addressing.\n",
        "\n",
        "5. E Why might you use a set instead of a list in Python?\n",
        " - We might use a set instead of a list in Python for the following reasons:\n",
        "\n",
        "  Uniqueness: Sets automatically remove duplicates, ensuring only unique elements.\n",
        "\n",
        "  Faster Membership Tests: Sets provide O(1) average time complexity for checking membership, while lists are slower (O(n)).\n",
        "\n",
        "  Set Operations: Sets support efficient mathematical operations like union, intersection, and difference.\n",
        "\n",
        "  Improved Performance: Sets are generally faster for operations involving uniqueness and membership checking.\n",
        "\n",
        "6. What is a string in Python, and how is it different from a list?\n",
        " - A string in Python is an immutable sequence of characters used to represent text. It is enclosed in quotes (' or \") and cannot be modified after creation.\n",
        "\n",
        "  Difference between a string and a list:\n",
        "\n",
        "  Mutability:\n",
        "\n",
        "  String: Immutable (cannot be changed).\n",
        "\n",
        "  List: Mutable (can be modified).\n",
        "\n",
        "  Data Type:\n",
        "\n",
        "  String: Contains only characters (text).\n",
        "\n",
        "  List: Can contain elements of any data type (e.g., numbers, strings, other lists).\n",
        "\n",
        "  Methods:\n",
        "\n",
        "  String: Has text-specific methods (e.g., upper(), replace()).\n",
        "\n",
        "  List: Has collection-specific methods (e.g., append(), remove()).\n",
        "\n",
        "\n",
        "  In short, a string is for storing text and is immutable, while a list is a mutable collection that can store various data types.\n",
        "\n",
        "\n",
        "7. How do tuples ensure data integrity in Python?\n",
        " - Tuples ensure data integrity in Python by being immutable, meaning once created, their elements cannot be modified, added, or removed. This prevents accidental changes to the data, ensuring that the content remains constant throughout the program. If any modification is attempted, it results in an error, helping maintain the integrity of the data.\n",
        "\n",
        "8. What is a hash table, and how does it relate to dictionaries in Python?\n",
        " - A hash table is a data structure that stores data in key-value pairs, where each key is hashed using a hash function to determine its position (index) in the table. This allows for fast access, insertion, and deletion operations.\n",
        "\n",
        " - In Python, dictionaries are implemented using hash tables. The keys in a dictionary are hashed to determine where the corresponding values are stored, enabling O(1) average time complexity for lookup, insertion, and deletion. The keys must be hashable (immutable), while the values can be of any data type.\n",
        "\n",
        "9. Can lists contain different data types in Python?\n",
        " - Yes, lists in Python can contain different data types. A single list can hold a combination of integers, strings, floats, other lists, or any other data type.\n",
        " The below example has list which contains an integer, a string, a float, and another list."
      ],
      "metadata": {
        "id": "SQ2vW_i-ycWh"
      }
    },
    {
      "cell_type": "code",
      "source": [
        "my_list = [1, \"hello\", 3.14, [2, 3]]\n"
      ],
      "metadata": {
        "id": "6VpCj45hDDIj"
      },
      "execution_count": 3,
      "outputs": []
    },
    {
      "cell_type": "markdown",
      "source": [
        "10. Explain why strings are immutable in Python.\n",
        " - Strings are immutable in Python to ensure data integrity and efficiency. When a string is created, its value cannot be changed, which prevents accidental modifications.\n",
        " This immutability allows Python to optimize memory usage by reusing string objects, avoiding unnecessary copies. Since strings are frequently used, immutability also makes them safer in multi-threaded environments and ensures consistent behavior when strings are passed around in programs.\n",
        "\n",
        "11. What advantages do dictionaries offer over lists for certain tasks?\n",
        " - Dictionaries offer several advantages over lists for certain tasks:\n",
        "\n",
        "   a. Faster Lookups: Dictionaries provide O(1) average time complexity for key-based lookups, while lists require O(n) time to search for an item.\n",
        "\n",
        "   b. Key-Value Pair Storage: Dictionaries store data as key-value pairs, making it easier to associate and retrieve related data. Lists store items in a linear order.\n",
        "\n",
        "   c. No Duplicates: Each key in a dictionary is unique, ensuring no duplicate keys, while lists can contain duplicate elements.\n",
        "\n",
        "   d. Efficient Data Retrieval: Dictionaries allow direct access to values through keys, making them more efficient for tasks like searching and updating values.\n",
        "\n",
        "12.  Describe a scenario where using a tuple would be preferable over a list.\n",
        " - A tuple would be preferable over a list when you need to store immutable data that should not be changed, such as coordinates (latitude, longitude) or fixed configuration settings. For example, using a tuple for a pair of GPS coordinates ensures that the values cannot be accidentally modified, preserving data integrity. Additionally, tuples are more memory-efficient and can be used as keys in dictionaries, which lists cannot.\n",
        "\n",
        "13. How do sets handle duplicate values in Python?\n",
        " - Sets in Python automatically remove duplicate values. When we try to add a duplicate element to a set, it is ignored, ensuring that each element in a set is unique. This is one of the key features of sets, making them useful for storing collections of unique items.\n",
        "\n",
        "14. How does the “in” keyword work differently for lists and dictionaries?\n",
        " - The \"in\" keyword works differently for lists and dictionaries in Python:\n",
        "\n",
        "  a. For lists: It checks if an element is present in the list. It searches through all the elements sequentially.\n"
      ],
      "metadata": {
        "id": "jWags0yxDXF5"
      }
    },
    {
      "cell_type": "code",
      "source": [
        "my_list = [1, 2, 3]\n",
        "print(2 in my_list)\n"
      ],
      "metadata": {
        "colab": {
          "base_uri": "https://localhost:8080/"
        },
        "id": "emck87zQFrKg",
        "outputId": "680768e3-73d4-4d37-caef-db84f27f8d73"
      },
      "execution_count": 4,
      "outputs": [
        {
          "output_type": "stream",
          "name": "stdout",
          "text": [
            "True\n"
          ]
        }
      ]
    },
    {
      "cell_type": "markdown",
      "source": [
        "  b. For dictionaries: It checks if a key is present in the dictionary. It does not check for values or key-value pairs."
      ],
      "metadata": {
        "id": "Fb8AAzd7ymZ0"
      }
    },
    {
      "cell_type": "code",
      "source": [
        "my_dict = {'a': 1, 'b': 2}\n",
        "print('a' in my_dict)\n"
      ],
      "metadata": {
        "colab": {
          "base_uri": "https://localhost:8080/"
        },
        "id": "jv5UHEtjF_wP",
        "outputId": "2f6f8ada-a0f5-49c7-c014-1e91065dd5d8"
      },
      "execution_count": 5,
      "outputs": [
        {
          "output_type": "stream",
          "name": "stdout",
          "text": [
            "True\n"
          ]
        }
      ]
    },
    {
      "cell_type": "markdown",
      "source": [
        "15. Can you modify the elements of a tuple? Explain why or why not.\n",
        " - No, we cannot modify the elements of a tuple because tuples are immutable in Python. Once a tuple is created, its elements cannot be changed, added, or removed. This immutability ensures data integrity and allows tuples to be used as keys in dictionaries and elements in sets.\n",
        "\n",
        "16. What is a nested dictionary, and give an example of its use case?\n",
        " - A nested dictionary is a dictionary where the values are themselves dictionaries. It allows for storing hierarchical data and representing complex relationships.\n",
        " Example use case:\n",
        " A nested dictionary can be used to store information about students, where each student's name is a key, and their details (like age, grades, and address) are stored in an inner dictionary. This structure helps in organizing related data under a single key.\n",
        "\n",
        "\n",
        "\n",
        "\n"
      ],
      "metadata": {
        "id": "Hq7OuNunGEhp"
      }
    },
    {
      "cell_type": "code",
      "source": [
        "students = {\n",
        "    'Aakash': {'age': 21, 'grades': [90, 85, 88], 'address': '123 Main St'},\n",
        "    'Priya': {'age': 22, 'grades': [80, 70, 78], 'address': '456 Oak St'}\n",
        "}\n",
        "\n",
        "# Accessing Priya's age\n",
        "print(students['Priya']['age'])\n"
      ],
      "metadata": {
        "colab": {
          "base_uri": "https://localhost:8080/"
        },
        "id": "TuiDU_yiG9ZE",
        "outputId": "8764031e-9411-4d54-8c7b-166c69a1c114"
      },
      "execution_count": 8,
      "outputs": [
        {
          "output_type": "stream",
          "name": "stdout",
          "text": [
            "22\n"
          ]
        }
      ]
    },
    {
      "cell_type": "markdown",
      "source": [
        "17. Describe the time complexity of accessing elements in a dictionary.\n",
        " - The time complexity of accessing elements in a dictionary is O(1) on average. This is because dictionaries in Python are implemented using hash tables, which allow for direct access to values using keys through hashing. In the worst case (e.g., hash collisions), the time complexity can degrade to O(n), but this is rare.\n",
        "\n",
        "18. In what situations are lists preferred over dictionaries?\n",
        " - Lists are preferred over dictionaries in below situations:\n",
        "\n",
        "  a. Order Matters: Lists maintain the order of elements, making them ideal for scenarios where the sequence of items is important (e.g., ordered collections).\n",
        "\n",
        "  b. Indexed Access: When you need to access elements by their index rather than by a key, lists are more appropriate.\n",
        "\n",
        "  c. Storing Homogeneous Data: Lists are better for storing a collection of similar items (e.g., numbers, strings) where you don't need key-value pair mapping.\n",
        "\n",
        "  d. Smaller Data Size: Lists are generally more memory-efficient for smaller datasets compared to dictionaries, which require additional memory for key-value mappings.\n",
        "\n",
        "19. Why are dictionaries considered unordered, and how does that affect data retrieval?\n",
        " - Dictionaries in Python are considered unordered because the elements (key-value pairs) are stored based on the hash value of the keys, not in the order they were added. This means the order of items is not guaranteed.\n",
        "\n",
        " - Effect on data retrieval:\n",
        "\n",
        " a. Accessing data: We can retrieve values from a dictionary using their keys, which allows for fast access (O(1) on average) but does not rely on the order of elements.\n",
        "\n",
        " b. Iteration: When iterating through a dictionary, the order of items may appear random, as the internal storage does not preserve the insertion order (though in Python 3.7 and later, dictionaries do maintain insertion order for iteration).\n",
        "\n",
        "20. Explain the difference between a list and a dictionary in terms of data retrieval.\n",
        " - The key difference between a list and a dictionary in terms of data retrieval is:\n",
        "\n",
        " a. List: Data is retrieved by index (integer position), which means we can access elements based on their position in the list. Retrieval has O(1) time complexity for indexed access, but searching for an element requires O(n) time.\n",
        "\n",
        " b. Dictionary: Data is retrieved by key (a unique identifier), allowing for fast lookups with O(1) average time complexity, as keys are hashed.\n",
        "\n",
        " In summary, lists use indices for retrieval, while dictionaries use keys, making dictionaries more efficient for key-based lookups."
      ],
      "metadata": {
        "id": "QQwuZbMjHahH"
      }
    },
    {
      "cell_type": "markdown",
      "source": [
        "#Practical"
      ],
      "metadata": {
        "id": "s7FKnCfgJ1w-"
      }
    },
    {
      "cell_type": "code",
      "source": [
        "#1. Write a code to create a string with your name and print it."
      ],
      "metadata": {
        "id": "jQ2EUX9aJ08S"
      },
      "execution_count": null,
      "outputs": []
    },
    {
      "cell_type": "code",
      "source": [
        "#answer:-\n",
        "name = \"Mantasha\"\n",
        "print(name)\n"
      ],
      "metadata": {
        "colab": {
          "base_uri": "https://localhost:8080/"
        },
        "id": "v9uulSDgKGa9",
        "outputId": "8be46464-d20c-4166-a92f-c269a8dc00c5"
      },
      "execution_count": 9,
      "outputs": [
        {
          "output_type": "stream",
          "name": "stdout",
          "text": [
            "Mantasha\n"
          ]
        }
      ]
    },
    {
      "cell_type": "code",
      "source": [
        "#2. Write a code to find the length of the string \"Hello World\"."
      ],
      "metadata": {
        "id": "0grQCzrjKSiC"
      },
      "execution_count": null,
      "outputs": []
    },
    {
      "cell_type": "code",
      "source": [
        "#answer:-\n",
        "my_string = \"Hello World\"\n",
        "length = len(my_string)\n",
        "print(length)\n"
      ],
      "metadata": {
        "colab": {
          "base_uri": "https://localhost:8080/"
        },
        "id": "OEjENDqyKf1g",
        "outputId": "5c830645-c95d-4a3e-a89c-a8f275699ca9"
      },
      "execution_count": 10,
      "outputs": [
        {
          "output_type": "stream",
          "name": "stdout",
          "text": [
            "11\n"
          ]
        }
      ]
    },
    {
      "cell_type": "code",
      "source": [
        "#3. Write a code to slice the first 3 characters from the string \"Python Programming\"."
      ],
      "metadata": {
        "id": "1z7qJ9Q3Kjao"
      },
      "execution_count": null,
      "outputs": []
    },
    {
      "cell_type": "code",
      "source": [
        "#answer:-\n",
        "my_string = \"Python Programming\"\n",
        "sliced_string = my_string[:3]\n",
        "print(sliced_string)\n"
      ],
      "metadata": {
        "colab": {
          "base_uri": "https://localhost:8080/"
        },
        "id": "QtrEnm0vKqsj",
        "outputId": "1d891953-47ea-4a36-cfce-182ea253c760"
      },
      "execution_count": 11,
      "outputs": [
        {
          "output_type": "stream",
          "name": "stdout",
          "text": [
            "Pyt\n"
          ]
        }
      ]
    },
    {
      "cell_type": "code",
      "source": [
        "#4. Write a code to convert the string \"hello\" to uppercase."
      ],
      "metadata": {
        "id": "9BFb6yn_Kvjp"
      },
      "execution_count": null,
      "outputs": []
    },
    {
      "cell_type": "code",
      "source": [
        "#answer:-\n",
        "my_string = \"hello\"\n",
        "uppercase_string = my_string.upper()\n",
        "print(uppercase_string)\n"
      ],
      "metadata": {
        "colab": {
          "base_uri": "https://localhost:8080/"
        },
        "id": "kj1BUywNK1Xg",
        "outputId": "a3829d2c-96ff-4f7d-e458-267b41776e76"
      },
      "execution_count": 12,
      "outputs": [
        {
          "output_type": "stream",
          "name": "stdout",
          "text": [
            "HELLO\n"
          ]
        }
      ]
    },
    {
      "cell_type": "code",
      "source": [
        "#5. Write a code to replace the word \"apple\" with \"orange\" in the string \"I like apple\"."
      ],
      "metadata": {
        "id": "8WyDAVIoK4xo"
      },
      "execution_count": null,
      "outputs": []
    },
    {
      "cell_type": "code",
      "source": [
        "#answer:-\n",
        "my_string = \"I like apple\"\n",
        "new_string = my_string.replace(\"apple\", \"orange\")\n",
        "print(new_string)\n"
      ],
      "metadata": {
        "colab": {
          "base_uri": "https://localhost:8080/"
        },
        "id": "J16WqP_wLAlZ",
        "outputId": "ac138c8d-a031-476a-f1f0-deff9c61ca3c"
      },
      "execution_count": 13,
      "outputs": [
        {
          "output_type": "stream",
          "name": "stdout",
          "text": [
            "I like orange\n"
          ]
        }
      ]
    },
    {
      "cell_type": "code",
      "source": [
        "#6. Write a code to create a list with numbers 1 to 5 and print it."
      ],
      "metadata": {
        "id": "QeKNky1FLEgE"
      },
      "execution_count": null,
      "outputs": []
    },
    {
      "cell_type": "code",
      "source": [
        "#answer:-\n",
        "my_list = [1, 2, 3, 4, 5]\n",
        "print(my_list)\n"
      ],
      "metadata": {
        "colab": {
          "base_uri": "https://localhost:8080/"
        },
        "id": "oRYFCtOQLMLO",
        "outputId": "54c3726b-0b44-4ef6-a863-43f7857704e4"
      },
      "execution_count": 15,
      "outputs": [
        {
          "output_type": "stream",
          "name": "stdout",
          "text": [
            "[1, 2, 3, 4, 5]\n"
          ]
        }
      ]
    },
    {
      "cell_type": "code",
      "source": [
        "#7. Write a code to append the number 10 to the list [1, 2, 3, 4]."
      ],
      "metadata": {
        "id": "QgTybFDbLT9k"
      },
      "execution_count": null,
      "outputs": []
    },
    {
      "cell_type": "code",
      "source": [
        "#answer:-\n",
        "my_list = [1, 2, 3, 4]\n",
        "my_list.append(10)\n",
        "print(my_list)\n"
      ],
      "metadata": {
        "colab": {
          "base_uri": "https://localhost:8080/"
        },
        "id": "hUDGSclgLeao",
        "outputId": "ce18bfea-84e7-453c-d196-8199d53b89b4"
      },
      "execution_count": 16,
      "outputs": [
        {
          "output_type": "stream",
          "name": "stdout",
          "text": [
            "[1, 2, 3, 4, 10]\n"
          ]
        }
      ]
    },
    {
      "cell_type": "code",
      "source": [
        "#8. Write a code to remove the number 3 from the list [1, 2, 3, 4, 5]."
      ],
      "metadata": {
        "id": "vCPu8RIsLiqK"
      },
      "execution_count": null,
      "outputs": []
    },
    {
      "cell_type": "code",
      "source": [
        "#answer:-\n",
        "my_list = [1, 2, 3, 4, 5]\n",
        "my_list.remove(3)\n",
        "print(my_list)\n"
      ],
      "metadata": {
        "colab": {
          "base_uri": "https://localhost:8080/"
        },
        "id": "rN2u28LDLodH",
        "outputId": "1e72615b-357d-424b-b49c-5684654a95f0"
      },
      "execution_count": 17,
      "outputs": [
        {
          "output_type": "stream",
          "name": "stdout",
          "text": [
            "[1, 2, 4, 5]\n"
          ]
        }
      ]
    },
    {
      "cell_type": "code",
      "source": [
        "#9. Write a code to access the second element in the list ['a', 'b', 'c', 'd']."
      ],
      "metadata": {
        "id": "mz0hwWK4Lt7W"
      },
      "execution_count": null,
      "outputs": []
    },
    {
      "cell_type": "code",
      "source": [
        "#answer:-\n",
        "my_list = ['a', 'b', 'c', 'd']\n",
        "second_element = my_list[1]\n",
        "print(second_element)\n"
      ],
      "metadata": {
        "colab": {
          "base_uri": "https://localhost:8080/"
        },
        "id": "GRJfusCZLz6U",
        "outputId": "4ebfd88a-6cc9-4808-a2aa-daa9f4658098"
      },
      "execution_count": 18,
      "outputs": [
        {
          "output_type": "stream",
          "name": "stdout",
          "text": [
            "b\n"
          ]
        }
      ]
    },
    {
      "cell_type": "code",
      "source": [
        "#10. Write a code to reverse the list [10, 20, 30, 40, 50]."
      ],
      "metadata": {
        "id": "NagLD7zML-S1"
      },
      "execution_count": null,
      "outputs": []
    },
    {
      "cell_type": "code",
      "source": [
        "#answer:-\n",
        "my_list = [10, 20, 30, 40, 50]\n",
        "my_list.reverse()\n",
        "print(my_list)"
      ],
      "metadata": {
        "colab": {
          "base_uri": "https://localhost:8080/"
        },
        "id": "MNZiGPHuMHNJ",
        "outputId": "68367ba3-091c-4615-9e4c-261b79798982"
      },
      "execution_count": 19,
      "outputs": [
        {
          "output_type": "stream",
          "name": "stdout",
          "text": [
            "[50, 40, 30, 20, 10]\n"
          ]
        }
      ]
    },
    {
      "cell_type": "code",
      "source": [
        "#11.  Write a code to create a tuple with the elements 10, 20, 30 and print it."
      ],
      "metadata": {
        "id": "AwjT-3uRMNe6"
      },
      "execution_count": null,
      "outputs": []
    },
    {
      "cell_type": "code",
      "source": [
        "#answer:-\n",
        "my_tuple = (10, 20, 30)\n",
        "print(my_tuple)"
      ],
      "metadata": {
        "colab": {
          "base_uri": "https://localhost:8080/"
        },
        "id": "5qRxPzdBMZBl",
        "outputId": "898049fe-0595-4790-ab77-d8d061fbbc9d"
      },
      "execution_count": 20,
      "outputs": [
        {
          "output_type": "stream",
          "name": "stdout",
          "text": [
            "(10, 20, 30)\n"
          ]
        }
      ]
    },
    {
      "cell_type": "code",
      "source": [
        "#12.  Write a code to access the first element of the tuple ('apple', 'banana', 'cherry')."
      ],
      "metadata": {
        "id": "a7PypLE6Md5U"
      },
      "execution_count": null,
      "outputs": []
    },
    {
      "cell_type": "code",
      "source": [
        "#answer:-\n",
        "my_tuple = ('apple', 'banana', 'cherry')\n",
        "first_element = my_tuple[0]\n",
        "print(first_element)"
      ],
      "metadata": {
        "colab": {
          "base_uri": "https://localhost:8080/"
        },
        "id": "SZ5xgio0MiZu",
        "outputId": "586b741a-1929-42e3-8bea-f46cd25a354f"
      },
      "execution_count": 21,
      "outputs": [
        {
          "output_type": "stream",
          "name": "stdout",
          "text": [
            "apple\n"
          ]
        }
      ]
    },
    {
      "cell_type": "code",
      "source": [
        "#13.  Write a code to count how many times the number 2 appears in the tuple (1, 2, 3, 2, 4, 2)."
      ],
      "metadata": {
        "id": "zv3dbpJLMqrq"
      },
      "execution_count": null,
      "outputs": []
    },
    {
      "cell_type": "code",
      "source": [
        "#answer:-\n",
        "my_tuple = (1, 2, 3, 2, 4, 2)\n",
        "count_of_2 = my_tuple.count(2)\n",
        "print(count_of_2)"
      ],
      "metadata": {
        "colab": {
          "base_uri": "https://localhost:8080/"
        },
        "id": "KZLG8RVSMyyb",
        "outputId": "7ec82ba3-a5af-4157-9903-1acfb1a212c7"
      },
      "execution_count": 22,
      "outputs": [
        {
          "output_type": "stream",
          "name": "stdout",
          "text": [
            "3\n"
          ]
        }
      ]
    },
    {
      "cell_type": "code",
      "source": [
        "#14.  Write a code to find the index of the element \"cat\" in the tuple ('dog', 'cat', 'rabbit')."
      ],
      "metadata": {
        "id": "smL9cmEYM20n"
      },
      "execution_count": null,
      "outputs": []
    },
    {
      "cell_type": "code",
      "source": [
        "#answer:-\n",
        "my_tuple = ('dog', 'cat', 'rabbit')\n",
        "index_of_cat = my_tuple.index('cat')\n",
        "print(index_of_cat)"
      ],
      "metadata": {
        "colab": {
          "base_uri": "https://localhost:8080/"
        },
        "id": "rK0jhmIcM-Ia",
        "outputId": "25de2638-837a-40a3-9a05-3d03f764c80e"
      },
      "execution_count": 23,
      "outputs": [
        {
          "output_type": "stream",
          "name": "stdout",
          "text": [
            "1\n"
          ]
        }
      ]
    },
    {
      "cell_type": "code",
      "source": [
        "#15.  Write a code to check if the element \"banana\" is in the tuple ('apple', 'orange', 'banana')."
      ],
      "metadata": {
        "id": "js289dgCNGnh"
      },
      "execution_count": null,
      "outputs": []
    },
    {
      "cell_type": "code",
      "source": [
        "#answer:-\n",
        "my_tuple = ('apple', 'orange', 'banana')\n",
        "if 'banana' in my_tuple:\n",
        "    print(\"Yes, 'banana' is in the tuple.\")\n",
        "else:\n",
        "    print(\"No, 'banana' is not in the tuple.\")\n"
      ],
      "metadata": {
        "colab": {
          "base_uri": "https://localhost:8080/"
        },
        "id": "AlnY3czDNSkR",
        "outputId": "978374a8-d2f8-46e0-be67-b4fbbba2f831"
      },
      "execution_count": 24,
      "outputs": [
        {
          "output_type": "stream",
          "name": "stdout",
          "text": [
            "Yes, 'banana' is in the tuple.\n"
          ]
        }
      ]
    },
    {
      "cell_type": "code",
      "source": [
        "#16. Write a code to create a set with the elements 1, 2, 3, 4, 5 and print it."
      ],
      "metadata": {
        "id": "Df2nmpjcNXg1"
      },
      "execution_count": null,
      "outputs": []
    },
    {
      "cell_type": "code",
      "source": [
        "#answer:-\n",
        "my_set = {1, 2, 3, 4, 5}\n",
        "print(my_set)"
      ],
      "metadata": {
        "colab": {
          "base_uri": "https://localhost:8080/"
        },
        "id": "5B3xU3lpNeN_",
        "outputId": "27ad2b4f-cabf-446f-dfc0-309fe6f08d74"
      },
      "execution_count": 25,
      "outputs": [
        {
          "output_type": "stream",
          "name": "stdout",
          "text": [
            "{1, 2, 3, 4, 5}\n"
          ]
        }
      ]
    },
    {
      "cell_type": "code",
      "source": [
        "#17. Write a code to add the element 6 to the set {1, 2, 3, 4}."
      ],
      "metadata": {
        "id": "zxsD6jQ6NhUn"
      },
      "execution_count": null,
      "outputs": []
    },
    {
      "cell_type": "code",
      "source": [
        "#answer:-\n",
        "my_set = {1, 2, 3, 4}\n",
        "my_set.add(6)\n",
        "print(my_set)"
      ],
      "metadata": {
        "colab": {
          "base_uri": "https://localhost:8080/"
        },
        "id": "uVmzwOmNNm-3",
        "outputId": "a7df2b34-9907-4f68-9bbb-7eb5b542c389"
      },
      "execution_count": 26,
      "outputs": [
        {
          "output_type": "stream",
          "name": "stdout",
          "text": [
            "{1, 2, 3, 4, 6}\n"
          ]
        }
      ]
    },
    {
      "cell_type": "code",
      "source": [
        "#18. Write a code to create a tuple with the elements 10, 20, 30 and print it."
      ],
      "metadata": {
        "id": "S99NuQsKNtUE"
      },
      "execution_count": null,
      "outputs": []
    },
    {
      "cell_type": "code",
      "source": [
        "#answer:-\n",
        "my_tuple = (10, 20, 30)\n",
        "print(my_tuple)"
      ],
      "metadata": {
        "colab": {
          "base_uri": "https://localhost:8080/"
        },
        "id": "-NKXjlsoNyWL",
        "outputId": "63acd38c-ef5b-4642-a31e-35c5545cde38"
      },
      "execution_count": 27,
      "outputs": [
        {
          "output_type": "stream",
          "name": "stdout",
          "text": [
            "(10, 20, 30)\n"
          ]
        }
      ]
    },
    {
      "cell_type": "code",
      "source": [
        "#19. Write a code to access the first element of the tuple ('apple', 'banana', 'cherry')."
      ],
      "metadata": {
        "id": "snV-A8WvN4Fc"
      },
      "execution_count": null,
      "outputs": []
    },
    {
      "cell_type": "code",
      "source": [
        "#answer:-\n",
        "my_tuple = ('apple', 'banana', 'cherry')\n",
        "first_element = my_tuple[0]\n",
        "print(first_element)\n"
      ],
      "metadata": {
        "colab": {
          "base_uri": "https://localhost:8080/"
        },
        "id": "suGAk71tN9cy",
        "outputId": "bb299f5a-43d0-4a67-b70a-b4de8f54ceee"
      },
      "execution_count": 28,
      "outputs": [
        {
          "output_type": "stream",
          "name": "stdout",
          "text": [
            "apple\n"
          ]
        }
      ]
    },
    {
      "cell_type": "code",
      "source": [
        "#20.  Write a code to count how many times the number 2 appears in the tuple (1, 2, 3, 2, 4, 2)."
      ],
      "metadata": {
        "id": "bs7gDcUmOC16"
      },
      "execution_count": null,
      "outputs": []
    },
    {
      "cell_type": "code",
      "source": [
        "#answer:-\n",
        "my_tuple = (1, 2, 3, 2, 4, 2)\n",
        "count_of_2 = my_tuple.count(2)\n",
        "print(count_of_2)"
      ],
      "metadata": {
        "colab": {
          "base_uri": "https://localhost:8080/"
        },
        "id": "4eqM1YHnOTj0",
        "outputId": "561f932c-e499-42a5-af61-ebb8a7dbe4ed"
      },
      "execution_count": 29,
      "outputs": [
        {
          "output_type": "stream",
          "name": "stdout",
          "text": [
            "3\n"
          ]
        }
      ]
    },
    {
      "cell_type": "code",
      "source": [
        "#21. Write a code to find the index of the element \"cat\" in the tuple ('dog', 'cat', 'rabbit')."
      ],
      "metadata": {
        "id": "K56gjlsVOYU8"
      },
      "execution_count": null,
      "outputs": []
    },
    {
      "cell_type": "code",
      "source": [
        "#answer:-\n",
        "my_tuple = ('dog', 'cat', 'rabbit')\n",
        "index_of_cat = my_tuple.index('cat')\n",
        "print(index_of_cat)"
      ],
      "metadata": {
        "colab": {
          "base_uri": "https://localhost:8080/"
        },
        "id": "rUzOLbN9OhM5",
        "outputId": "2cc4dbc5-0657-4ebb-a97e-5667b165c341"
      },
      "execution_count": 30,
      "outputs": [
        {
          "output_type": "stream",
          "name": "stdout",
          "text": [
            "1\n"
          ]
        }
      ]
    },
    {
      "cell_type": "code",
      "source": [
        "#22. Write a code to check if the element \"banana\" is in the tuple ('apple', 'orange', 'banana')."
      ],
      "metadata": {
        "id": "rjrCodMOOrgw"
      },
      "execution_count": null,
      "outputs": []
    },
    {
      "cell_type": "code",
      "source": [
        "#answer:-\n",
        "my_tuple = ('apple', 'orange', 'banana')\n",
        "if 'banana' in my_tuple:\n",
        "    print(\"Yes, 'banana' is in the tuple.\")\n",
        "else:\n",
        "    print(\"No, 'banana' is not in the tuple.\")"
      ],
      "metadata": {
        "colab": {
          "base_uri": "https://localhost:8080/"
        },
        "id": "R2SqpwH0Owai",
        "outputId": "fb57fb79-f3ab-4bdb-8977-f1b964fc49ca"
      },
      "execution_count": 31,
      "outputs": [
        {
          "output_type": "stream",
          "name": "stdout",
          "text": [
            "Yes, 'banana' is in the tuple.\n"
          ]
        }
      ]
    },
    {
      "cell_type": "code",
      "source": [
        "#23. Write a code to create a set with the elements 1, 2, 3, 4, 5 and print it."
      ],
      "metadata": {
        "id": "NlV284mfOzvT"
      },
      "execution_count": null,
      "outputs": []
    },
    {
      "cell_type": "code",
      "source": [
        "#answer:-\n",
        "my_set = {1, 2, 3, 4, 5}\n",
        "print(my_set)"
      ],
      "metadata": {
        "colab": {
          "base_uri": "https://localhost:8080/"
        },
        "id": "BvP8BGxlO5QY",
        "outputId": "e6209d96-779c-44fc-8d2b-b8046a354b99"
      },
      "execution_count": 32,
      "outputs": [
        {
          "output_type": "stream",
          "name": "stdout",
          "text": [
            "{1, 2, 3, 4, 5}\n"
          ]
        }
      ]
    },
    {
      "cell_type": "code",
      "source": [
        "#24.  Write a code to add the element 6 to the set {1, 2, 3, 4}."
      ],
      "metadata": {
        "id": "TdTBksOdO8PI"
      },
      "execution_count": null,
      "outputs": []
    },
    {
      "cell_type": "code",
      "source": [
        "#answer:-\n",
        "my_set = {1, 2, 3, 4}\n",
        "my_set.add(6)\n",
        "print(my_set)"
      ],
      "metadata": {
        "colab": {
          "base_uri": "https://localhost:8080/"
        },
        "id": "-Vqb2gKLPEj3",
        "outputId": "6e54c101-6a8c-4d2a-a0ed-fc4b096e2762"
      },
      "execution_count": 33,
      "outputs": [
        {
          "output_type": "stream",
          "name": "stdout",
          "text": [
            "{1, 2, 3, 4, 6}\n"
          ]
        }
      ]
    }
  ]
}